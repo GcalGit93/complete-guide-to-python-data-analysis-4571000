{
 "cells": [
  {
   "cell_type": "markdown",
   "id": "7942c7f7-a477-49dc-ab1b-19ed3a385f63",
   "metadata": {},
   "source": [
    "# 10_01: COVID-19 data"
   ]
  },
  {
   "cell_type": "code",
   "execution_count": 1,
   "id": "87406632-413a-4fa7-9367-9e5fbd23b25b",
   "metadata": {},
   "outputs": [],
   "source": [
    "import math\n",
    "import collections\n",
    "import dataclasses\n",
    "import datetime\n",
    "\n",
    "import numpy as np\n",
    "import pandas as pd\n",
    "\n",
    "import plotly.express as px"
   ]
  },
  {
   "cell_type": "code",
   "execution_count": 2,
   "id": "9a002aaa-d18a-4b0f-8a56-fae318e88305",
   "metadata": {},
   "outputs": [],
   "source": [
    "covid19 = pd.read_csv('covid19.csv.gz', dtype_backend='pyarrow', parse_dates=['date'])"
   ]
  },
  {
   "cell_type": "code",
   "execution_count": 3,
   "id": "43c89599-3089-4709-80c0-27964a578b8c",
   "metadata": {},
   "outputs": [
    {
     "name": "stdout",
     "output_type": "stream",
     "text": [
      "<class 'pandas.core.frame.DataFrame'>\n",
      "RangeIndex: 156710 entries, 0 to 156709\n",
      "Data columns (total 15 columns):\n",
      " #   Column                      Non-Null Count   Dtype          \n",
      "---  ------                      --------------   -----          \n",
      " 0   country                     156710 non-null  string[pyarrow]\n",
      " 1   date                        156710 non-null  datetime64[ns] \n",
      " 2   continent                   156710 non-null  string[pyarrow]\n",
      " 3   population                  156710 non-null  int64[pyarrow] \n",
      " 4   life_expectancy             151672 non-null  double[pyarrow]\n",
      " 5   gdp_per_capita              148190 non-null  int64[pyarrow] \n",
      " 6   population_density          156710 non-null  double[pyarrow]\n",
      " 7   median_age                  156710 non-null  double[pyarrow]\n",
      " 8   extreme_poverty             137966 non-null  double[pyarrow]\n",
      " 9   human_development_index     156710 non-null  double[pyarrow]\n",
      " 10  hospital_beds_per_thousand  122630 non-null  double[pyarrow]\n",
      " 11  percent_fully_vaccinated    156710 non-null  double[pyarrow]\n",
      " 12  total_cases                 156710 non-null  int64[pyarrow] \n",
      " 13  total_deaths                156710 non-null  int64[pyarrow] \n",
      " 14  total_excess                5737 non-null    int64[pyarrow] \n",
      "dtypes: datetime64[ns](1), double[pyarrow](7), int64[pyarrow](5), string[pyarrow](2)\n",
      "memory usage: 19.0 MB\n"
     ]
    }
   ],
   "source": [
    "covid19.info()"
   ]
  },
  {
   "cell_type": "code",
   "execution_count": 4,
   "id": "3bdde2c2-0aa3-4801-9bec-14c62c7ecbe0",
   "metadata": {},
   "outputs": [],
   "source": [
    "europe2020 = covid19[(covid19.continent == 'Europe') & (covid19.date == pd.to_datetime('2020-12-31'))]"
   ]
  },
  {
   "cell_type": "code",
   "execution_count": 5,
   "id": "b544bae3-ac59-4577-a60c-b6a94688d017",
   "metadata": {},
   "outputs": [
    {
     "data": {
      "text/html": [
       "<div>\n",
       "<style scoped>\n",
       "    .dataframe tbody tr th:only-of-type {\n",
       "        vertical-align: middle;\n",
       "    }\n",
       "\n",
       "    .dataframe tbody tr th {\n",
       "        vertical-align: top;\n",
       "    }\n",
       "\n",
       "    .dataframe thead th {\n",
       "        text-align: right;\n",
       "    }\n",
       "</style>\n",
       "<table border=\"1\" class=\"dataframe\">\n",
       "  <thead>\n",
       "    <tr style=\"text-align: right;\">\n",
       "      <th></th>\n",
       "      <th>country</th>\n",
       "      <th>date</th>\n",
       "      <th>continent</th>\n",
       "      <th>population</th>\n",
       "      <th>life_expectancy</th>\n",
       "      <th>gdp_per_capita</th>\n",
       "      <th>population_density</th>\n",
       "      <th>median_age</th>\n",
       "      <th>extreme_poverty</th>\n",
       "      <th>human_development_index</th>\n",
       "      <th>hospital_beds_per_thousand</th>\n",
       "      <th>percent_fully_vaccinated</th>\n",
       "      <th>total_cases</th>\n",
       "      <th>total_deaths</th>\n",
       "      <th>total_excess</th>\n",
       "    </tr>\n",
       "  </thead>\n",
       "  <tbody>\n",
       "    <tr>\n",
       "      <th>12284</th>\n",
       "      <td>Belgium</td>\n",
       "      <td>2020-12-31</td>\n",
       "      <td>Europe</td>\n",
       "      <td>11641813</td>\n",
       "      <td>76.6138</td>\n",
       "      <td>53287</td>\n",
       "      <td>384.47202</td>\n",
       "      <td>41.151</td>\n",
       "      <td>0.029965</td>\n",
       "      <td>0.942</td>\n",
       "      <td>5.58</td>\n",
       "      <td>0.000017</td>\n",
       "      <td>635180</td>\n",
       "      <td>19374</td>\n",
       "      <td>&lt;NA&gt;</td>\n",
       "    </tr>\n",
       "    <tr>\n",
       "      <th>37844</th>\n",
       "      <td>Czechia</td>\n",
       "      <td>2020-12-31</td>\n",
       "      <td>Europe</td>\n",
       "      <td>10673216</td>\n",
       "      <td>81.8787</td>\n",
       "      <td>41052</td>\n",
       "      <td>138.27768</td>\n",
       "      <td>42.645</td>\n",
       "      <td>0.059851</td>\n",
       "      <td>0.895</td>\n",
       "      <td>6.62</td>\n",
       "      <td>0.000009</td>\n",
       "      <td>661412</td>\n",
       "      <td>11367</td>\n",
       "      <td>&lt;NA&gt;</td>\n",
       "    </tr>\n",
       "    <tr>\n",
       "      <th>48068</th>\n",
       "      <td>France</td>\n",
       "      <td>2020-12-31</td>\n",
       "      <td>Europe</td>\n",
       "      <td>66277412</td>\n",
       "      <td>75.0859</td>\n",
       "      <td>45904</td>\n",
       "      <td>121.04203</td>\n",
       "      <td>41.567</td>\n",
       "      <td>0.056357</td>\n",
       "      <td>0.91</td>\n",
       "      <td>5.91</td>\n",
       "      <td>0.000003</td>\n",
       "      <td>2314290</td>\n",
       "      <td>63534</td>\n",
       "      <td>&lt;NA&gt;</td>\n",
       "    </tr>\n",
       "    <tr>\n",
       "      <th>49338</th>\n",
       "      <td>Germany</td>\n",
       "      <td>2020-12-31</td>\n",
       "      <td>Europe</td>\n",
       "      <td>84086228</td>\n",
       "      <td>75.0859</td>\n",
       "      <td>53969</td>\n",
       "      <td>240.66582</td>\n",
       "      <td>45.024</td>\n",
       "      <td>0.0</td>\n",
       "      <td>0.95</td>\n",
       "      <td>8.0</td>\n",
       "      <td>0.0</td>\n",
       "      <td>1620512</td>\n",
       "      <td>47009</td>\n",
       "      <td>&lt;NA&gt;</td>\n",
       "    </tr>\n",
       "    <tr>\n",
       "      <th>52320</th>\n",
       "      <td>Greece</td>\n",
       "      <td>2020-12-31</td>\n",
       "      <td>Europe</td>\n",
       "      <td>10412481</td>\n",
       "      <td>61.1409</td>\n",
       "      <td>31704</td>\n",
       "      <td>80.779526</td>\n",
       "      <td>45.391</td>\n",
       "      <td>0.567095</td>\n",
       "      <td>0.893</td>\n",
       "      <td>4.2</td>\n",
       "      <td>0.0</td>\n",
       "      <td>138467</td>\n",
       "      <td>4682</td>\n",
       "      <td>&lt;NA&gt;</td>\n",
       "    </tr>\n",
       "  </tbody>\n",
       "</table>\n",
       "</div>"
      ],
      "text/plain": [
       "       country       date continent  population  life_expectancy  \\\n",
       "12284  Belgium 2020-12-31    Europe    11641813          76.6138   \n",
       "37844  Czechia 2020-12-31    Europe    10673216          81.8787   \n",
       "48068   France 2020-12-31    Europe    66277412          75.0859   \n",
       "49338  Germany 2020-12-31    Europe    84086228          75.0859   \n",
       "52320   Greece 2020-12-31    Europe    10412481          61.1409   \n",
       "\n",
       "       gdp_per_capita  population_density  median_age  extreme_poverty  \\\n",
       "12284           53287           384.47202      41.151         0.029965   \n",
       "37844           41052           138.27768      42.645         0.059851   \n",
       "48068           45904           121.04203      41.567         0.056357   \n",
       "49338           53969           240.66582      45.024              0.0   \n",
       "52320           31704           80.779526      45.391         0.567095   \n",
       "\n",
       "       human_development_index  hospital_beds_per_thousand  \\\n",
       "12284                    0.942                        5.58   \n",
       "37844                    0.895                        6.62   \n",
       "48068                     0.91                        5.91   \n",
       "49338                     0.95                         8.0   \n",
       "52320                    0.893                         4.2   \n",
       "\n",
       "       percent_fully_vaccinated  total_cases  total_deaths  total_excess  \n",
       "12284                  0.000017       635180         19374          <NA>  \n",
       "37844                  0.000009       661412         11367          <NA>  \n",
       "48068                  0.000003      2314290         63534          <NA>  \n",
       "49338                       0.0      1620512         47009          <NA>  \n",
       "52320                       0.0       138467          4682          <NA>  "
      ]
     },
     "execution_count": 5,
     "metadata": {},
     "output_type": "execute_result"
    }
   ],
   "source": [
    "europe2020.head()"
   ]
  },
  {
   "cell_type": "code",
   "execution_count": 6,
   "id": "021ea340-b147-4b74-baf0-f698e604592e",
   "metadata": {},
   "outputs": [
    {
     "data": {
      "application/vnd.plotly.v1+json": {
       "config": {
        "plotlyServerURL": "https://plot.ly"
       },
       "data": [
        {
         "coloraxis": "coloraxis",
         "geo": "geo",
         "hovertemplate": "<b>%{hovertext}</b><br><br>country=%{location}<br>total_deaths=%{z}<extra></extra>",
         "hovertext": [
          "Belgium",
          "Czechia",
          "France",
          "Germany",
          "Greece",
          "Italy",
          "Netherlands",
          "Poland",
          "Portugal",
          "Romania",
          "Russia",
          "Spain",
          "Sweden",
          "Ukraine",
          "United Kingdom"
         ],
         "locationmode": "country names",
         "locations": [
          "Belgium",
          "Czechia",
          "France",
          "Germany",
          "Greece",
          "Italy",
          "Netherlands",
          "Poland",
          "Portugal",
          "Romania",
          "Russia",
          "Spain",
          "Sweden",
          "Ukraine",
          "United Kingdom"
         ],
         "name": "",
         "type": "choropleth",
         "z": {
          "bdata": "rksAAGcsAAAu+AAAobcAAEoSAADLFwEAEy0AAEdqAAAnGgAABDsAAPrVAADM0gAAayQAAK47AABrYQEA",
          "dtype": "i4"
         }
        }
       ],
       "layout": {
        "coloraxis": {
         "colorbar": {
          "title": {
           "text": "total_deaths"
          }
         },
         "colorscale": [
          [
           0,
           "rgb(247,251,255)"
          ],
          [
           0.125,
           "rgb(222,235,247)"
          ],
          [
           0.25,
           "rgb(198,219,239)"
          ],
          [
           0.375,
           "rgb(158,202,225)"
          ],
          [
           0.5,
           "rgb(107,174,214)"
          ],
          [
           0.625,
           "rgb(66,146,198)"
          ],
          [
           0.75,
           "rgb(33,113,181)"
          ],
          [
           0.875,
           "rgb(8,81,156)"
          ],
          [
           1,
           "rgb(8,48,107)"
          ]
         ]
        },
        "geo": {
         "center": {},
         "domain": {
          "x": [
           0,
           1
          ],
          "y": [
           0,
           1
          ]
         },
         "lataxis": {
          "range": [
           30,
           70
          ]
         },
         "lonaxis": {
          "range": [
           -25,
           50
          ]
         }
        },
        "height": 500,
        "legend": {
         "tracegroupgap": 0
        },
        "template": {
         "data": {
          "bar": [
           {
            "error_x": {
             "color": "#2a3f5f"
            },
            "error_y": {
             "color": "#2a3f5f"
            },
            "marker": {
             "line": {
              "color": "#E5ECF6",
              "width": 0.5
             },
             "pattern": {
              "fillmode": "overlay",
              "size": 10,
              "solidity": 0.2
             }
            },
            "type": "bar"
           }
          ],
          "barpolar": [
           {
            "marker": {
             "line": {
              "color": "#E5ECF6",
              "width": 0.5
             },
             "pattern": {
              "fillmode": "overlay",
              "size": 10,
              "solidity": 0.2
             }
            },
            "type": "barpolar"
           }
          ],
          "carpet": [
           {
            "aaxis": {
             "endlinecolor": "#2a3f5f",
             "gridcolor": "white",
             "linecolor": "white",
             "minorgridcolor": "white",
             "startlinecolor": "#2a3f5f"
            },
            "baxis": {
             "endlinecolor": "#2a3f5f",
             "gridcolor": "white",
             "linecolor": "white",
             "minorgridcolor": "white",
             "startlinecolor": "#2a3f5f"
            },
            "type": "carpet"
           }
          ],
          "choropleth": [
           {
            "colorbar": {
             "outlinewidth": 0,
             "ticks": ""
            },
            "type": "choropleth"
           }
          ],
          "contour": [
           {
            "colorbar": {
             "outlinewidth": 0,
             "ticks": ""
            },
            "colorscale": [
             [
              0,
              "#0d0887"
             ],
             [
              0.1111111111111111,
              "#46039f"
             ],
             [
              0.2222222222222222,
              "#7201a8"
             ],
             [
              0.3333333333333333,
              "#9c179e"
             ],
             [
              0.4444444444444444,
              "#bd3786"
             ],
             [
              0.5555555555555556,
              "#d8576b"
             ],
             [
              0.6666666666666666,
              "#ed7953"
             ],
             [
              0.7777777777777778,
              "#fb9f3a"
             ],
             [
              0.8888888888888888,
              "#fdca26"
             ],
             [
              1,
              "#f0f921"
             ]
            ],
            "type": "contour"
           }
          ],
          "contourcarpet": [
           {
            "colorbar": {
             "outlinewidth": 0,
             "ticks": ""
            },
            "type": "contourcarpet"
           }
          ],
          "heatmap": [
           {
            "colorbar": {
             "outlinewidth": 0,
             "ticks": ""
            },
            "colorscale": [
             [
              0,
              "#0d0887"
             ],
             [
              0.1111111111111111,
              "#46039f"
             ],
             [
              0.2222222222222222,
              "#7201a8"
             ],
             [
              0.3333333333333333,
              "#9c179e"
             ],
             [
              0.4444444444444444,
              "#bd3786"
             ],
             [
              0.5555555555555556,
              "#d8576b"
             ],
             [
              0.6666666666666666,
              "#ed7953"
             ],
             [
              0.7777777777777778,
              "#fb9f3a"
             ],
             [
              0.8888888888888888,
              "#fdca26"
             ],
             [
              1,
              "#f0f921"
             ]
            ],
            "type": "heatmap"
           }
          ],
          "histogram": [
           {
            "marker": {
             "pattern": {
              "fillmode": "overlay",
              "size": 10,
              "solidity": 0.2
             }
            },
            "type": "histogram"
           }
          ],
          "histogram2d": [
           {
            "colorbar": {
             "outlinewidth": 0,
             "ticks": ""
            },
            "colorscale": [
             [
              0,
              "#0d0887"
             ],
             [
              0.1111111111111111,
              "#46039f"
             ],
             [
              0.2222222222222222,
              "#7201a8"
             ],
             [
              0.3333333333333333,
              "#9c179e"
             ],
             [
              0.4444444444444444,
              "#bd3786"
             ],
             [
              0.5555555555555556,
              "#d8576b"
             ],
             [
              0.6666666666666666,
              "#ed7953"
             ],
             [
              0.7777777777777778,
              "#fb9f3a"
             ],
             [
              0.8888888888888888,
              "#fdca26"
             ],
             [
              1,
              "#f0f921"
             ]
            ],
            "type": "histogram2d"
           }
          ],
          "histogram2dcontour": [
           {
            "colorbar": {
             "outlinewidth": 0,
             "ticks": ""
            },
            "colorscale": [
             [
              0,
              "#0d0887"
             ],
             [
              0.1111111111111111,
              "#46039f"
             ],
             [
              0.2222222222222222,
              "#7201a8"
             ],
             [
              0.3333333333333333,
              "#9c179e"
             ],
             [
              0.4444444444444444,
              "#bd3786"
             ],
             [
              0.5555555555555556,
              "#d8576b"
             ],
             [
              0.6666666666666666,
              "#ed7953"
             ],
             [
              0.7777777777777778,
              "#fb9f3a"
             ],
             [
              0.8888888888888888,
              "#fdca26"
             ],
             [
              1,
              "#f0f921"
             ]
            ],
            "type": "histogram2dcontour"
           }
          ],
          "mesh3d": [
           {
            "colorbar": {
             "outlinewidth": 0,
             "ticks": ""
            },
            "type": "mesh3d"
           }
          ],
          "parcoords": [
           {
            "line": {
             "colorbar": {
              "outlinewidth": 0,
              "ticks": ""
             }
            },
            "type": "parcoords"
           }
          ],
          "pie": [
           {
            "automargin": true,
            "type": "pie"
           }
          ],
          "scatter": [
           {
            "fillpattern": {
             "fillmode": "overlay",
             "size": 10,
             "solidity": 0.2
            },
            "type": "scatter"
           }
          ],
          "scatter3d": [
           {
            "line": {
             "colorbar": {
              "outlinewidth": 0,
              "ticks": ""
             }
            },
            "marker": {
             "colorbar": {
              "outlinewidth": 0,
              "ticks": ""
             }
            },
            "type": "scatter3d"
           }
          ],
          "scattercarpet": [
           {
            "marker": {
             "colorbar": {
              "outlinewidth": 0,
              "ticks": ""
             }
            },
            "type": "scattercarpet"
           }
          ],
          "scattergeo": [
           {
            "marker": {
             "colorbar": {
              "outlinewidth": 0,
              "ticks": ""
             }
            },
            "type": "scattergeo"
           }
          ],
          "scattergl": [
           {
            "marker": {
             "colorbar": {
              "outlinewidth": 0,
              "ticks": ""
             }
            },
            "type": "scattergl"
           }
          ],
          "scattermap": [
           {
            "marker": {
             "colorbar": {
              "outlinewidth": 0,
              "ticks": ""
             }
            },
            "type": "scattermap"
           }
          ],
          "scattermapbox": [
           {
            "marker": {
             "colorbar": {
              "outlinewidth": 0,
              "ticks": ""
             }
            },
            "type": "scattermapbox"
           }
          ],
          "scatterpolar": [
           {
            "marker": {
             "colorbar": {
              "outlinewidth": 0,
              "ticks": ""
             }
            },
            "type": "scatterpolar"
           }
          ],
          "scatterpolargl": [
           {
            "marker": {
             "colorbar": {
              "outlinewidth": 0,
              "ticks": ""
             }
            },
            "type": "scatterpolargl"
           }
          ],
          "scatterternary": [
           {
            "marker": {
             "colorbar": {
              "outlinewidth": 0,
              "ticks": ""
             }
            },
            "type": "scatterternary"
           }
          ],
          "surface": [
           {
            "colorbar": {
             "outlinewidth": 0,
             "ticks": ""
            },
            "colorscale": [
             [
              0,
              "#0d0887"
             ],
             [
              0.1111111111111111,
              "#46039f"
             ],
             [
              0.2222222222222222,
              "#7201a8"
             ],
             [
              0.3333333333333333,
              "#9c179e"
             ],
             [
              0.4444444444444444,
              "#bd3786"
             ],
             [
              0.5555555555555556,
              "#d8576b"
             ],
             [
              0.6666666666666666,
              "#ed7953"
             ],
             [
              0.7777777777777778,
              "#fb9f3a"
             ],
             [
              0.8888888888888888,
              "#fdca26"
             ],
             [
              1,
              "#f0f921"
             ]
            ],
            "type": "surface"
           }
          ],
          "table": [
           {
            "cells": {
             "fill": {
              "color": "#EBF0F8"
             },
             "line": {
              "color": "white"
             }
            },
            "header": {
             "fill": {
              "color": "#C8D4E3"
             },
             "line": {
              "color": "white"
             }
            },
            "type": "table"
           }
          ]
         },
         "layout": {
          "annotationdefaults": {
           "arrowcolor": "#2a3f5f",
           "arrowhead": 0,
           "arrowwidth": 1
          },
          "autotypenumbers": "strict",
          "coloraxis": {
           "colorbar": {
            "outlinewidth": 0,
            "ticks": ""
           }
          },
          "colorscale": {
           "diverging": [
            [
             0,
             "#8e0152"
            ],
            [
             0.1,
             "#c51b7d"
            ],
            [
             0.2,
             "#de77ae"
            ],
            [
             0.3,
             "#f1b6da"
            ],
            [
             0.4,
             "#fde0ef"
            ],
            [
             0.5,
             "#f7f7f7"
            ],
            [
             0.6,
             "#e6f5d0"
            ],
            [
             0.7,
             "#b8e186"
            ],
            [
             0.8,
             "#7fbc41"
            ],
            [
             0.9,
             "#4d9221"
            ],
            [
             1,
             "#276419"
            ]
           ],
           "sequential": [
            [
             0,
             "#0d0887"
            ],
            [
             0.1111111111111111,
             "#46039f"
            ],
            [
             0.2222222222222222,
             "#7201a8"
            ],
            [
             0.3333333333333333,
             "#9c179e"
            ],
            [
             0.4444444444444444,
             "#bd3786"
            ],
            [
             0.5555555555555556,
             "#d8576b"
            ],
            [
             0.6666666666666666,
             "#ed7953"
            ],
            [
             0.7777777777777778,
             "#fb9f3a"
            ],
            [
             0.8888888888888888,
             "#fdca26"
            ],
            [
             1,
             "#f0f921"
            ]
           ],
           "sequentialminus": [
            [
             0,
             "#0d0887"
            ],
            [
             0.1111111111111111,
             "#46039f"
            ],
            [
             0.2222222222222222,
             "#7201a8"
            ],
            [
             0.3333333333333333,
             "#9c179e"
            ],
            [
             0.4444444444444444,
             "#bd3786"
            ],
            [
             0.5555555555555556,
             "#d8576b"
            ],
            [
             0.6666666666666666,
             "#ed7953"
            ],
            [
             0.7777777777777778,
             "#fb9f3a"
            ],
            [
             0.8888888888888888,
             "#fdca26"
            ],
            [
             1,
             "#f0f921"
            ]
           ]
          },
          "colorway": [
           "#636efa",
           "#EF553B",
           "#00cc96",
           "#ab63fa",
           "#FFA15A",
           "#19d3f3",
           "#FF6692",
           "#B6E880",
           "#FF97FF",
           "#FECB52"
          ],
          "font": {
           "color": "#2a3f5f"
          },
          "geo": {
           "bgcolor": "white",
           "lakecolor": "white",
           "landcolor": "#E5ECF6",
           "showlakes": true,
           "showland": true,
           "subunitcolor": "white"
          },
          "hoverlabel": {
           "align": "left"
          },
          "hovermode": "closest",
          "mapbox": {
           "style": "light"
          },
          "paper_bgcolor": "white",
          "plot_bgcolor": "#E5ECF6",
          "polar": {
           "angularaxis": {
            "gridcolor": "white",
            "linecolor": "white",
            "ticks": ""
           },
           "bgcolor": "#E5ECF6",
           "radialaxis": {
            "gridcolor": "white",
            "linecolor": "white",
            "ticks": ""
           }
          },
          "scene": {
           "xaxis": {
            "backgroundcolor": "#E5ECF6",
            "gridcolor": "white",
            "gridwidth": 2,
            "linecolor": "white",
            "showbackground": true,
            "ticks": "",
            "zerolinecolor": "white"
           },
           "yaxis": {
            "backgroundcolor": "#E5ECF6",
            "gridcolor": "white",
            "gridwidth": 2,
            "linecolor": "white",
            "showbackground": true,
            "ticks": "",
            "zerolinecolor": "white"
           },
           "zaxis": {
            "backgroundcolor": "#E5ECF6",
            "gridcolor": "white",
            "gridwidth": 2,
            "linecolor": "white",
            "showbackground": true,
            "ticks": "",
            "zerolinecolor": "white"
           }
          },
          "shapedefaults": {
           "line": {
            "color": "#2a3f5f"
           }
          },
          "ternary": {
           "aaxis": {
            "gridcolor": "white",
            "linecolor": "white",
            "ticks": ""
           },
           "baxis": {
            "gridcolor": "white",
            "linecolor": "white",
            "ticks": ""
           },
           "bgcolor": "#E5ECF6",
           "caxis": {
            "gridcolor": "white",
            "linecolor": "white",
            "ticks": ""
           }
          },
          "title": {
           "x": 0.05
          },
          "xaxis": {
           "automargin": true,
           "gridcolor": "white",
           "linecolor": "white",
           "ticks": "",
           "title": {
            "standoff": 15
           },
           "zerolinecolor": "white",
           "zerolinewidth": 2
          },
          "yaxis": {
           "automargin": true,
           "gridcolor": "white",
           "linecolor": "white",
           "ticks": "",
           "title": {
            "standoff": 15
           },
           "zerolinecolor": "white",
           "zerolinewidth": 2
          }
         }
        },
        "title": {
         "text": "COVID-19 in Europe, Dec 31 2020"
        },
        "width": 800
       }
      }
     },
     "metadata": {},
     "output_type": "display_data"
    }
   ],
   "source": [
    "fig = px.choropleth(europe2020,  # dataset\n",
    "                    color='total_deaths', color_continuous_scale=px.colors.sequential.Blues,  # color scheme\n",
    "                    locations='country', locationmode='country names',              # geographic arrangement\n",
    "                    hover_name='country', title='COVID-19 in Europe, Dec 31 2020')  # titles\n",
    "\n",
    "fig.update_layout(width=800, height=500)       # set figure size\n",
    "fig.update_geos(lonaxis={'range': [-25, 50]},  # set longitude range\n",
    "                lataxis={'range': [30, 70]})   # set latitude range\n",
    "\n",
    "fig.show()"
   ]
  },
  {
   "cell_type": "code",
   "execution_count": null,
   "id": "838e9f7b",
   "metadata": {},
   "outputs": [],
   "source": []
  }
 ],
 "metadata": {
  "kernelspec": {
   "display_name": "Python 3",
   "language": "python",
   "name": "python3"
  },
  "language_info": {
   "codemirror_mode": {
    "name": "ipython",
    "version": 3
   },
   "file_extension": ".py",
   "mimetype": "text/x-python",
   "name": "python",
   "nbconvert_exporter": "python",
   "pygments_lexer": "ipython3",
   "version": "3.12.1"
  }
 },
 "nbformat": 4,
 "nbformat_minor": 5
}
