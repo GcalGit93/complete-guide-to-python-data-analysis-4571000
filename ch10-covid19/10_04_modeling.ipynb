{
 "cells": [
  {
   "cell_type": "markdown",
   "id": "7942c7f7-a477-49dc-ab1b-19ed3a385f63",
   "metadata": {},
   "source": [
    "# 10_04: Modeling COVID-19 data"
   ]
  },
  {
   "cell_type": "code",
   "execution_count": 1,
   "id": "6f9ec608-9399-4aac-b6f3-57b4cb653c00",
   "metadata": {},
   "outputs": [],
   "source": [
    "import math\n",
    "import collections\n",
    "import dataclasses\n",
    "import datetime\n",
    "\n",
    "import numpy as np\n",
    "import pandas as pd\n",
    "\n",
    "import plotly.express as px"
   ]
  },
  {
   "cell_type": "code",
   "execution_count": 2,
   "id": "04f61637-f98b-46ce-8d1c-627a5e180807",
   "metadata": {},
   "outputs": [],
   "source": [
    "import statsmodels\n",
    "import statsmodels.api as sm\n",
    "import statsmodels.formula.api as smf"
   ]
  },
  {
   "cell_type": "code",
   "execution_count": 3,
   "id": "bc6657e3-f941-4bda-a4d3-ef169ef482d6",
   "metadata": {},
   "outputs": [],
   "source": [
    "covid19 = pd.read_csv('covid19.csv.gz', parse_dates=['date'], dtype_backend='pyarrow')"
   ]
  },
  {
   "cell_type": "code",
   "execution_count": 4,
   "id": "a797b4da-2e95-4186-92a6-8e9e767cf54f",
   "metadata": {},
   "outputs": [
    {
     "name": "stdout",
     "output_type": "stream",
     "text": [
      "<class 'pandas.core.frame.DataFrame'>\n",
      "RangeIndex: 156710 entries, 0 to 156709\n",
      "Data columns (total 15 columns):\n",
      " #   Column                      Non-Null Count   Dtype          \n",
      "---  ------                      --------------   -----          \n",
      " 0   country                     156710 non-null  string[pyarrow]\n",
      " 1   date                        156710 non-null  datetime64[ns] \n",
      " 2   continent                   156710 non-null  string[pyarrow]\n",
      " 3   population                  156710 non-null  int64[pyarrow] \n",
      " 4   life_expectancy             151672 non-null  double[pyarrow]\n",
      " 5   gdp_per_capita              148190 non-null  int64[pyarrow] \n",
      " 6   population_density          156710 non-null  double[pyarrow]\n",
      " 7   median_age                  156710 non-null  double[pyarrow]\n",
      " 8   extreme_poverty             137966 non-null  double[pyarrow]\n",
      " 9   human_development_index     156710 non-null  double[pyarrow]\n",
      " 10  hospital_beds_per_thousand  122630 non-null  double[pyarrow]\n",
      " 11  percent_fully_vaccinated    156710 non-null  double[pyarrow]\n",
      " 12  total_cases                 156710 non-null  int64[pyarrow] \n",
      " 13  total_deaths                156710 non-null  int64[pyarrow] \n",
      " 14  total_excess                5737 non-null    int64[pyarrow] \n",
      "dtypes: datetime64[ns](1), double[pyarrow](7), int64[pyarrow](5), string[pyarrow](2)\n",
      "memory usage: 19.0 MB\n"
     ]
    }
   ],
   "source": [
    "covid19.info()"
   ]
  },
  {
   "cell_type": "code",
   "execution_count": 5,
   "id": "3e7ffd7a-34fc-4a58-a603-6956971255c0",
   "metadata": {},
   "outputs": [],
   "source": [
    "covid19['deaths_per_million'] = covid19.total_deaths / (covid19.population / 1.0e6)\n",
    "covid19['excess_per_million'] = covid19.total_excess / (covid19.population / 1.0e6)\n",
    "\n",
    "final = covid19.groupby('country').last()"
   ]
  },
  {
   "cell_type": "code",
   "execution_count": 6,
   "id": "ed43793d-2937-41fa-bbd6-f9bf194c3aa0",
   "metadata": {},
   "outputs": [
    {
     "data": {
      "text/plain": [
       "(1068.7827868419265, 1322.4723872957682)"
      ]
     },
     "execution_count": 6,
     "metadata": {},
     "output_type": "execute_result"
    }
   ],
   "source": [
    "final.deaths_per_million.mean(), final.deaths_per_million.std()"
   ]
  },
  {
   "cell_type": "code",
   "execution_count": 7,
   "id": "c4a7a72b-da55-4642-b437-431eba3e2e5a",
   "metadata": {},
   "outputs": [
    {
     "data": {
      "application/vnd.plotly.v1+json": {
       "config": {
        "plotlyServerURL": "https://plot.ly"
       },
       "data": [
        {
         "bingroup": "x",
         "hovertemplate": "variable=deaths_per_million<br>value=%{x}<br>count=%{y}<extra></extra>",
         "legendgroup": "deaths_per_million",
         "marker": {
          "color": "#636efa",
          "pattern": {
           "shape": ""
          }
         },
         "name": "deaths_per_million",
         "orientation": "v",
         "showlegend": true,
         "type": "histogram",
         "x": {
          "bdata": "lSqr6yCjaEA0waBeyuliQEPQugWmLUtA4bLVAW57pkA5xe/LWxmOQH88LJ3UbI9A/+Ns2urEZUBQwhzDQAunQJD4NGZVsSdAw60cAKn2nEB71SiXExWqQKVxwK5IxTFAOVh7OzsE8j/dkwCOAzVmQJkkhHf221FADLM93g1AlkDSUjhvFAYlQB2K89S5EalAT2IiwF52VUBXB8v+TY2lQIMw5CW8eDtAiMRI7xQaiEBG93PXDd2vQEdmdcE3yixAtzd03bdleECe4ZystZqfQOU2juxWj2tAlsFBcgE0TkAm1/XYJc2jQE+bSPbkQaBAmN9D1UUNRkCvQlQKo5mtQE2SYUnSr5FAXQZAUxKmQEB+W/NmlrBSQF+/dO6EmJBAi8a5auxld0CjSfFnrSmCQFiVHiPFoJlArXseAkD+gUAczulDzeKpQMktViGCrIJABWthC1yak0DcqgPTnr+NQFY6WKckN1pA88aqREV1R0DkpVUrxVJgQPzRlmMm0pBABSBnRPAZQEAI2VGG+VSkQHly68inTHtAi79ch309UUCNuCTVIap2QK6Cov36TXlAlu4LiEQPlEBfObXsr+MoQI4XKkPeRixAl+gqZ8tyX0Agzu7snGpQQLJutfAbyblAoJaivK1VgkAsmuuPlpWoQPyJBGyltKVAAnfaNMsUrEB2Z4SSfaSlQBf3GcBp4lpAee1WF7e8ckBElexRJu5bQN6QQXn2HFNAS0i/u+CymUBl8lbKhq+FQK0tUTIJrSpAQgC7V2Lno0AqwYuKMiOHQBrZGHGIi1lAFqcKvTaVpEDHQn+pEJphQLdgCO91jShAGbPFjY0lKkAGdiYzeEB+QFGxJOqL96JAUQmKkc8zkkDnfOhVAzFTQDwCDi2666RA8/mjciGrbECXE2Jf3piqQCpyuz/4zKlAivstV0wUPUA/iA5qCvJpQMZ0XVobF3tAt65W3gM+TEA+Y0ISSUtpQMpEU7JUU3ZA",
          "dtype": "f8"
         },
         "xaxis": "x",
         "yaxis": "y"
        }
       ],
       "layout": {
        "barmode": "relative",
        "legend": {
         "title": {
          "text": "variable"
         },
         "tracegroupgap": 0
        },
        "margin": {
         "t": 60
        },
        "template": {
         "data": {
          "bar": [
           {
            "error_x": {
             "color": "#2a3f5f"
            },
            "error_y": {
             "color": "#2a3f5f"
            },
            "marker": {
             "line": {
              "color": "#E5ECF6",
              "width": 0.5
             },
             "pattern": {
              "fillmode": "overlay",
              "size": 10,
              "solidity": 0.2
             }
            },
            "type": "bar"
           }
          ],
          "barpolar": [
           {
            "marker": {
             "line": {
              "color": "#E5ECF6",
              "width": 0.5
             },
             "pattern": {
              "fillmode": "overlay",
              "size": 10,
              "solidity": 0.2
             }
            },
            "type": "barpolar"
           }
          ],
          "carpet": [
           {
            "aaxis": {
             "endlinecolor": "#2a3f5f",
             "gridcolor": "white",
             "linecolor": "white",
             "minorgridcolor": "white",
             "startlinecolor": "#2a3f5f"
            },
            "baxis": {
             "endlinecolor": "#2a3f5f",
             "gridcolor": "white",
             "linecolor": "white",
             "minorgridcolor": "white",
             "startlinecolor": "#2a3f5f"
            },
            "type": "carpet"
           }
          ],
          "choropleth": [
           {
            "colorbar": {
             "outlinewidth": 0,
             "ticks": ""
            },
            "type": "choropleth"
           }
          ],
          "contour": [
           {
            "colorbar": {
             "outlinewidth": 0,
             "ticks": ""
            },
            "colorscale": [
             [
              0,
              "#0d0887"
             ],
             [
              0.1111111111111111,
              "#46039f"
             ],
             [
              0.2222222222222222,
              "#7201a8"
             ],
             [
              0.3333333333333333,
              "#9c179e"
             ],
             [
              0.4444444444444444,
              "#bd3786"
             ],
             [
              0.5555555555555556,
              "#d8576b"
             ],
             [
              0.6666666666666666,
              "#ed7953"
             ],
             [
              0.7777777777777778,
              "#fb9f3a"
             ],
             [
              0.8888888888888888,
              "#fdca26"
             ],
             [
              1,
              "#f0f921"
             ]
            ],
            "type": "contour"
           }
          ],
          "contourcarpet": [
           {
            "colorbar": {
             "outlinewidth": 0,
             "ticks": ""
            },
            "type": "contourcarpet"
           }
          ],
          "heatmap": [
           {
            "colorbar": {
             "outlinewidth": 0,
             "ticks": ""
            },
            "colorscale": [
             [
              0,
              "#0d0887"
             ],
             [
              0.1111111111111111,
              "#46039f"
             ],
             [
              0.2222222222222222,
              "#7201a8"
             ],
             [
              0.3333333333333333,
              "#9c179e"
             ],
             [
              0.4444444444444444,
              "#bd3786"
             ],
             [
              0.5555555555555556,
              "#d8576b"
             ],
             [
              0.6666666666666666,
              "#ed7953"
             ],
             [
              0.7777777777777778,
              "#fb9f3a"
             ],
             [
              0.8888888888888888,
              "#fdca26"
             ],
             [
              1,
              "#f0f921"
             ]
            ],
            "type": "heatmap"
           }
          ],
          "histogram": [
           {
            "marker": {
             "pattern": {
              "fillmode": "overlay",
              "size": 10,
              "solidity": 0.2
             }
            },
            "type": "histogram"
           }
          ],
          "histogram2d": [
           {
            "colorbar": {
             "outlinewidth": 0,
             "ticks": ""
            },
            "colorscale": [
             [
              0,
              "#0d0887"
             ],
             [
              0.1111111111111111,
              "#46039f"
             ],
             [
              0.2222222222222222,
              "#7201a8"
             ],
             [
              0.3333333333333333,
              "#9c179e"
             ],
             [
              0.4444444444444444,
              "#bd3786"
             ],
             [
              0.5555555555555556,
              "#d8576b"
             ],
             [
              0.6666666666666666,
              "#ed7953"
             ],
             [
              0.7777777777777778,
              "#fb9f3a"
             ],
             [
              0.8888888888888888,
              "#fdca26"
             ],
             [
              1,
              "#f0f921"
             ]
            ],
            "type": "histogram2d"
           }
          ],
          "histogram2dcontour": [
           {
            "colorbar": {
             "outlinewidth": 0,
             "ticks": ""
            },
            "colorscale": [
             [
              0,
              "#0d0887"
             ],
             [
              0.1111111111111111,
              "#46039f"
             ],
             [
              0.2222222222222222,
              "#7201a8"
             ],
             [
              0.3333333333333333,
              "#9c179e"
             ],
             [
              0.4444444444444444,
              "#bd3786"
             ],
             [
              0.5555555555555556,
              "#d8576b"
             ],
             [
              0.6666666666666666,
              "#ed7953"
             ],
             [
              0.7777777777777778,
              "#fb9f3a"
             ],
             [
              0.8888888888888888,
              "#fdca26"
             ],
             [
              1,
              "#f0f921"
             ]
            ],
            "type": "histogram2dcontour"
           }
          ],
          "mesh3d": [
           {
            "colorbar": {
             "outlinewidth": 0,
             "ticks": ""
            },
            "type": "mesh3d"
           }
          ],
          "parcoords": [
           {
            "line": {
             "colorbar": {
              "outlinewidth": 0,
              "ticks": ""
             }
            },
            "type": "parcoords"
           }
          ],
          "pie": [
           {
            "automargin": true,
            "type": "pie"
           }
          ],
          "scatter": [
           {
            "fillpattern": {
             "fillmode": "overlay",
             "size": 10,
             "solidity": 0.2
            },
            "type": "scatter"
           }
          ],
          "scatter3d": [
           {
            "line": {
             "colorbar": {
              "outlinewidth": 0,
              "ticks": ""
             }
            },
            "marker": {
             "colorbar": {
              "outlinewidth": 0,
              "ticks": ""
             }
            },
            "type": "scatter3d"
           }
          ],
          "scattercarpet": [
           {
            "marker": {
             "colorbar": {
              "outlinewidth": 0,
              "ticks": ""
             }
            },
            "type": "scattercarpet"
           }
          ],
          "scattergeo": [
           {
            "marker": {
             "colorbar": {
              "outlinewidth": 0,
              "ticks": ""
             }
            },
            "type": "scattergeo"
           }
          ],
          "scattergl": [
           {
            "marker": {
             "colorbar": {
              "outlinewidth": 0,
              "ticks": ""
             }
            },
            "type": "scattergl"
           }
          ],
          "scattermap": [
           {
            "marker": {
             "colorbar": {
              "outlinewidth": 0,
              "ticks": ""
             }
            },
            "type": "scattermap"
           }
          ],
          "scattermapbox": [
           {
            "marker": {
             "colorbar": {
              "outlinewidth": 0,
              "ticks": ""
             }
            },
            "type": "scattermapbox"
           }
          ],
          "scatterpolar": [
           {
            "marker": {
             "colorbar": {
              "outlinewidth": 0,
              "ticks": ""
             }
            },
            "type": "scatterpolar"
           }
          ],
          "scatterpolargl": [
           {
            "marker": {
             "colorbar": {
              "outlinewidth": 0,
              "ticks": ""
             }
            },
            "type": "scatterpolargl"
           }
          ],
          "scatterternary": [
           {
            "marker": {
             "colorbar": {
              "outlinewidth": 0,
              "ticks": ""
             }
            },
            "type": "scatterternary"
           }
          ],
          "surface": [
           {
            "colorbar": {
             "outlinewidth": 0,
             "ticks": ""
            },
            "colorscale": [
             [
              0,
              "#0d0887"
             ],
             [
              0.1111111111111111,
              "#46039f"
             ],
             [
              0.2222222222222222,
              "#7201a8"
             ],
             [
              0.3333333333333333,
              "#9c179e"
             ],
             [
              0.4444444444444444,
              "#bd3786"
             ],
             [
              0.5555555555555556,
              "#d8576b"
             ],
             [
              0.6666666666666666,
              "#ed7953"
             ],
             [
              0.7777777777777778,
              "#fb9f3a"
             ],
             [
              0.8888888888888888,
              "#fdca26"
             ],
             [
              1,
              "#f0f921"
             ]
            ],
            "type": "surface"
           }
          ],
          "table": [
           {
            "cells": {
             "fill": {
              "color": "#EBF0F8"
             },
             "line": {
              "color": "white"
             }
            },
            "header": {
             "fill": {
              "color": "#C8D4E3"
             },
             "line": {
              "color": "white"
             }
            },
            "type": "table"
           }
          ]
         },
         "layout": {
          "annotationdefaults": {
           "arrowcolor": "#2a3f5f",
           "arrowhead": 0,
           "arrowwidth": 1
          },
          "autotypenumbers": "strict",
          "coloraxis": {
           "colorbar": {
            "outlinewidth": 0,
            "ticks": ""
           }
          },
          "colorscale": {
           "diverging": [
            [
             0,
             "#8e0152"
            ],
            [
             0.1,
             "#c51b7d"
            ],
            [
             0.2,
             "#de77ae"
            ],
            [
             0.3,
             "#f1b6da"
            ],
            [
             0.4,
             "#fde0ef"
            ],
            [
             0.5,
             "#f7f7f7"
            ],
            [
             0.6,
             "#e6f5d0"
            ],
            [
             0.7,
             "#b8e186"
            ],
            [
             0.8,
             "#7fbc41"
            ],
            [
             0.9,
             "#4d9221"
            ],
            [
             1,
             "#276419"
            ]
           ],
           "sequential": [
            [
             0,
             "#0d0887"
            ],
            [
             0.1111111111111111,
             "#46039f"
            ],
            [
             0.2222222222222222,
             "#7201a8"
            ],
            [
             0.3333333333333333,
             "#9c179e"
            ],
            [
             0.4444444444444444,
             "#bd3786"
            ],
            [
             0.5555555555555556,
             "#d8576b"
            ],
            [
             0.6666666666666666,
             "#ed7953"
            ],
            [
             0.7777777777777778,
             "#fb9f3a"
            ],
            [
             0.8888888888888888,
             "#fdca26"
            ],
            [
             1,
             "#f0f921"
            ]
           ],
           "sequentialminus": [
            [
             0,
             "#0d0887"
            ],
            [
             0.1111111111111111,
             "#46039f"
            ],
            [
             0.2222222222222222,
             "#7201a8"
            ],
            [
             0.3333333333333333,
             "#9c179e"
            ],
            [
             0.4444444444444444,
             "#bd3786"
            ],
            [
             0.5555555555555556,
             "#d8576b"
            ],
            [
             0.6666666666666666,
             "#ed7953"
            ],
            [
             0.7777777777777778,
             "#fb9f3a"
            ],
            [
             0.8888888888888888,
             "#fdca26"
            ],
            [
             1,
             "#f0f921"
            ]
           ]
          },
          "colorway": [
           "#636efa",
           "#EF553B",
           "#00cc96",
           "#ab63fa",
           "#FFA15A",
           "#19d3f3",
           "#FF6692",
           "#B6E880",
           "#FF97FF",
           "#FECB52"
          ],
          "font": {
           "color": "#2a3f5f"
          },
          "geo": {
           "bgcolor": "white",
           "lakecolor": "white",
           "landcolor": "#E5ECF6",
           "showlakes": true,
           "showland": true,
           "subunitcolor": "white"
          },
          "hoverlabel": {
           "align": "left"
          },
          "hovermode": "closest",
          "mapbox": {
           "style": "light"
          },
          "paper_bgcolor": "white",
          "plot_bgcolor": "#E5ECF6",
          "polar": {
           "angularaxis": {
            "gridcolor": "white",
            "linecolor": "white",
            "ticks": ""
           },
           "bgcolor": "#E5ECF6",
           "radialaxis": {
            "gridcolor": "white",
            "linecolor": "white",
            "ticks": ""
           }
          },
          "scene": {
           "xaxis": {
            "backgroundcolor": "#E5ECF6",
            "gridcolor": "white",
            "gridwidth": 2,
            "linecolor": "white",
            "showbackground": true,
            "ticks": "",
            "zerolinecolor": "white"
           },
           "yaxis": {
            "backgroundcolor": "#E5ECF6",
            "gridcolor": "white",
            "gridwidth": 2,
            "linecolor": "white",
            "showbackground": true,
            "ticks": "",
            "zerolinecolor": "white"
           },
           "zaxis": {
            "backgroundcolor": "#E5ECF6",
            "gridcolor": "white",
            "gridwidth": 2,
            "linecolor": "white",
            "showbackground": true,
            "ticks": "",
            "zerolinecolor": "white"
           }
          },
          "shapedefaults": {
           "line": {
            "color": "#2a3f5f"
           }
          },
          "ternary": {
           "aaxis": {
            "gridcolor": "white",
            "linecolor": "white",
            "ticks": ""
           },
           "baxis": {
            "gridcolor": "white",
            "linecolor": "white",
            "ticks": ""
           },
           "bgcolor": "#E5ECF6",
           "caxis": {
            "gridcolor": "white",
            "linecolor": "white",
            "ticks": ""
           }
          },
          "title": {
           "x": 0.05
          },
          "xaxis": {
           "automargin": true,
           "gridcolor": "white",
           "linecolor": "white",
           "ticks": "",
           "title": {
            "standoff": 15
           },
           "zerolinecolor": "white",
           "zerolinewidth": 2
          },
          "yaxis": {
           "automargin": true,
           "gridcolor": "white",
           "linecolor": "white",
           "ticks": "",
           "title": {
            "standoff": 15
           },
           "zerolinecolor": "white",
           "zerolinewidth": 2
          }
         }
        },
        "xaxis": {
         "anchor": "y",
         "domain": [
          0,
          1
         ],
         "title": {
          "text": "value"
         }
        },
        "yaxis": {
         "anchor": "x",
         "domain": [
          0,
          1
         ],
         "title": {
          "text": "count"
         }
        }
       }
      }
     },
     "metadata": {},
     "output_type": "display_data"
    }
   ],
   "source": [
    "px.histogram(final.deaths_per_million)"
   ]
  },
  {
   "cell_type": "code",
   "execution_count": 8,
   "id": "715ce148-9485-436e-9c55-ca97b1445998",
   "metadata": {},
   "outputs": [],
   "source": [
    "explanatory = ['population', 'gdp_per_capita', 'population_density', 'life_expectancy',\n",
    "               'median_age', 'extreme_poverty', 'human_development_index',\n",
    "               'hospital_beds_per_thousand', 'percent_fully_vaccinated']"
   ]
  },
  {
   "cell_type": "code",
   "execution_count": 9,
   "id": "113405f3-d6f4-481c-a53d-be00a10be226",
   "metadata": {},
   "outputs": [
    {
     "data": {
      "text/plain": [
       "(np.float64(1035.8498259744388),\n",
       " np.float64(0.4186242340060866),\n",
       " np.float64(30.602462272988774))"
      ]
     },
     "execution_count": 9,
     "metadata": {},
     "output_type": "execute_result"
    }
   ],
   "source": [
    "fit = smf.ols('deaths_per_million ~ gdp_per_capita + human_development_index',\n",
    "              data=final.reset_index()).fit()\n",
    "np.sqrt(fit.mse_resid), fit.rsquared, fit.fvalue"
   ]
  },
  {
   "cell_type": "code",
   "execution_count": 10,
   "id": "83ebb8ec-d200-4770-9e4e-e94e795a04e0",
   "metadata": {},
   "outputs": [
    {
     "data": {
      "text/plain": [
       "(np.float64(1150.5248204650236),\n",
       " np.float64(0.3117750909864718),\n",
       " np.float64(17.89402843849054))"
      ]
     },
     "execution_count": 10,
     "metadata": {},
     "output_type": "execute_result"
    }
   ],
   "source": [
    "fit = smf.ols('deaths_per_million ~ extreme_poverty + percent_fully_vaccinated',\n",
    "              data=final.reset_index()).fit()\n",
    "np.sqrt(fit.mse_resid), fit.rsquared, fit.fvalue"
   ]
  },
  {
   "cell_type": "code",
   "execution_count": 11,
   "id": "92c1ac0a-291c-4b8e-81cf-bfec75fcb52b",
   "metadata": {},
   "outputs": [
    {
     "data": {
      "text/plain": [
       "[('population', 'gdp_per_capita'),\n",
       " ('population', 'population_density'),\n",
       " ('population', 'life_expectancy'),\n",
       " ('population', 'median_age'),\n",
       " ('population', 'extreme_poverty'),\n",
       " ('population', 'human_development_index'),\n",
       " ('population', 'hospital_beds_per_thousand'),\n",
       " ('population', 'percent_fully_vaccinated'),\n",
       " ('gdp_per_capita', 'population_density'),\n",
       " ('gdp_per_capita', 'life_expectancy'),\n",
       " ('gdp_per_capita', 'median_age'),\n",
       " ('gdp_per_capita', 'extreme_poverty'),\n",
       " ('gdp_per_capita', 'human_development_index'),\n",
       " ('gdp_per_capita', 'hospital_beds_per_thousand'),\n",
       " ('gdp_per_capita', 'percent_fully_vaccinated'),\n",
       " ('population_density', 'life_expectancy'),\n",
       " ('population_density', 'median_age'),\n",
       " ('population_density', 'extreme_poverty'),\n",
       " ('population_density', 'human_development_index'),\n",
       " ('population_density', 'hospital_beds_per_thousand'),\n",
       " ('population_density', 'percent_fully_vaccinated'),\n",
       " ('life_expectancy', 'median_age'),\n",
       " ('life_expectancy', 'extreme_poverty'),\n",
       " ('life_expectancy', 'human_development_index'),\n",
       " ('life_expectancy', 'hospital_beds_per_thousand'),\n",
       " ('life_expectancy', 'percent_fully_vaccinated'),\n",
       " ('median_age', 'extreme_poverty'),\n",
       " ('median_age', 'human_development_index'),\n",
       " ('median_age', 'hospital_beds_per_thousand'),\n",
       " ('median_age', 'percent_fully_vaccinated'),\n",
       " ('extreme_poverty', 'human_development_index'),\n",
       " ('extreme_poverty', 'hospital_beds_per_thousand'),\n",
       " ('extreme_poverty', 'percent_fully_vaccinated'),\n",
       " ('human_development_index', 'hospital_beds_per_thousand'),\n",
       " ('human_development_index', 'percent_fully_vaccinated'),\n",
       " ('hospital_beds_per_thousand', 'percent_fully_vaccinated')]"
      ]
     },
     "execution_count": 11,
     "metadata": {},
     "output_type": "execute_result"
    }
   ],
   "source": [
    "import itertools\n",
    "list(itertools.combinations(explanatory, 2))"
   ]
  },
  {
   "cell_type": "code",
   "execution_count": 12,
   "id": "0428418d-1290-4597-abe8-1fee524d3b7e",
   "metadata": {},
   "outputs": [],
   "source": [
    "def getfit(final, expvars):\n",
    "    return smf.ols('deaths_per_million ~ ' + '+'.join(expvars), data=final.reset_index()).fit()"
   ]
  },
  {
   "cell_type": "code",
   "execution_count": 13,
   "id": "01575ad2-edb0-4330-a707-d615da8b5ecc",
   "metadata": {},
   "outputs": [
    {
     "data": {
      "text/plain": [
       "np.float64(32.292801582811855)"
      ]
     },
     "execution_count": 13,
     "metadata": {},
     "output_type": "execute_result"
    }
   ],
   "source": [
    "getfit(final, ['gdp_per_capita']).fvalue"
   ]
  },
  {
   "cell_type": "code",
   "execution_count": 14,
   "id": "fed1e2ad-b5ee-4e24-8a8a-51c6505d259f",
   "metadata": {},
   "outputs": [],
   "source": [
    "fvalues = {expvars: getfit(final, expvars).fvalue for nvars in range(1, len(explanatory) + 1)\n",
    "                                                  for expvars in itertools.combinations(explanatory, nvars)}"
   ]
  },
  {
   "cell_type": "code",
   "execution_count": 15,
   "id": "ea99f4fa-6be2-4e76-98d3-6259dd413a5e",
   "metadata": {},
   "outputs": [
    {
     "data": {
      "text/plain": [
       "('median_age',)"
      ]
     },
     "execution_count": 15,
     "metadata": {},
     "output_type": "execute_result"
    }
   ],
   "source": [
    "bestvars = max(fvalues.keys(), key=fvalues.get)\n",
    "bestvars"
   ]
  },
  {
   "cell_type": "code",
   "execution_count": 16,
   "id": "ccf600ee-214a-42cf-944b-1e46da993045",
   "metadata": {},
   "outputs": [
    {
     "data": {
      "text/html": [
       "<table class=\"simpletable\">\n",
       "<tr>\n",
       "        <td>Model:</td>                <td>OLS</td>          <td>Adj. R-squared:</td>      <td>0.442</td>  \n",
       "</tr>\n",
       "<tr>\n",
       "  <td>Dependent Variable:</td> <td>deaths_per_million</td>        <td>AIC:</td>          <td>1548.5102</td>\n",
       "</tr>\n",
       "<tr>\n",
       "         <td>Date:</td>         <td>2025-06-11 22:20</td>         <td>BIC:</td>          <td>1553.5754</td>\n",
       "</tr>\n",
       "<tr>\n",
       "   <td>No. Observations:</td>          <td>93</td>           <td>Log-Likelihood:</td>     <td>-772.26</td> \n",
       "</tr>\n",
       "<tr>\n",
       "       <td>Df Model:</td>               <td>1</td>            <td>F-statistic:</td>        <td>73.81</td>  \n",
       "</tr>\n",
       "<tr>\n",
       "     <td>Df Residuals:</td>            <td>91</td>         <td>Prob (F-statistic):</td>  <td>2.26e-13</td> \n",
       "</tr>\n",
       "<tr>\n",
       "      <td>R-squared:</td>             <td>0.448</td>             <td>Scale:</td>        <td>9.7628e+05</td>\n",
       "</tr>\n",
       "</table>\n",
       "<table class=\"simpletable\">\n",
       "<tr>\n",
       "       <td></td>         <th>Coef.</th>   <th>Std.Err.</th>    <th>t</th>     <th>P>|t|</th>   <th>[0.025</th>    <th>0.975]</th>  \n",
       "</tr>\n",
       "<tr>\n",
       "  <th>Intercept</th>  <td>-1476.9366</td> <td>313.5244</td> <td>-4.7108</td> <td>0.0000</td> <td>-2099.7143</td> <td>-854.1589</td>\n",
       "</tr>\n",
       "<tr>\n",
       "  <th>median_age</th>   <td>91.1775</td>   <td>10.6127</td> <td>8.5914</td>  <td>0.0000</td>   <td>70.0968</td>  <td>112.2583</td> \n",
       "</tr>\n",
       "</table>\n",
       "<table class=\"simpletable\">\n",
       "<tr>\n",
       "     <td>Omnibus:</td>    <td>54.973</td>  <td>Durbin-Watson:</td>    <td>2.356</td> \n",
       "</tr>\n",
       "<tr>\n",
       "  <td>Prob(Omnibus):</td>  <td>0.000</td> <td>Jarque-Bera (JB):</td> <td>340.171</td>\n",
       "</tr>\n",
       "<tr>\n",
       "       <td>Skew:</td>      <td>1.716</td>     <td>Prob(JB):</td>      <td>0.000</td> \n",
       "</tr>\n",
       "<tr>\n",
       "     <td>Kurtosis:</td>   <td>11.718</td>  <td>Condition No.:</td>     <td>90</td>   \n",
       "</tr>\n",
       "</table><br/>\n",
       "Notes:<br/>\n",
       "[1] Standard Errors assume that the covariance matrix of the errors is correctly specified."
      ],
      "text/latex": [
       "\\begin{table}\n",
       "\\caption{Results: Ordinary least squares}\n",
       "\\label{}\n",
       "\\begin{center}\n",
       "\\begin{tabular}{llll}\n",
       "\\hline\n",
       "Model:              & OLS                  & Adj. R-squared:     & 0.442       \\\\\n",
       "Dependent Variable: & deaths\\_per\\_million & AIC:                & 1548.5102   \\\\\n",
       "Date:               & 2025-06-11 22:20     & BIC:                & 1553.5754   \\\\\n",
       "No. Observations:   & 93                   & Log-Likelihood:     & -772.26     \\\\\n",
       "Df Model:           & 1                    & F-statistic:        & 73.81       \\\\\n",
       "Df Residuals:       & 91                   & Prob (F-statistic): & 2.26e-13    \\\\\n",
       "R-squared:          & 0.448                & Scale:              & 9.7628e+05  \\\\\n",
       "\\hline\n",
       "\\end{tabular}\n",
       "\\end{center}\n",
       "\n",
       "\\begin{center}\n",
       "\\begin{tabular}{lrrrrrr}\n",
       "\\hline\n",
       "            &      Coef. & Std.Err. &       t & P$> |$t$|$ &     [0.025 &    0.975]  \\\\\n",
       "\\hline\n",
       "Intercept   & -1476.9366 & 313.5244 & -4.7108 &      0.0000 & -2099.7143 & -854.1589  \\\\\n",
       "median\\_age &    91.1775 &  10.6127 &  8.5914 &      0.0000 &    70.0968 &  112.2583  \\\\\n",
       "\\hline\n",
       "\\end{tabular}\n",
       "\\end{center}\n",
       "\n",
       "\\begin{center}\n",
       "\\begin{tabular}{llll}\n",
       "\\hline\n",
       "Omnibus:       & 54.973 & Durbin-Watson:    & 2.356    \\\\\n",
       "Prob(Omnibus): & 0.000  & Jarque-Bera (JB): & 340.171  \\\\\n",
       "Skew:          & 1.716  & Prob(JB):         & 0.000    \\\\\n",
       "Kurtosis:      & 11.718 & Condition No.:    & 90       \\\\\n",
       "\\hline\n",
       "\\end{tabular}\n",
       "\\end{center}\n",
       "\\end{table}\n",
       "\\bigskip\n",
       "Notes: \\newline \n",
       "[1] Standard Errors assume that the covariance matrix of the errors is correctly specified."
      ],
      "text/plain": [
       "<class 'statsmodels.iolib.summary2.Summary'>\n",
       "\"\"\"\n",
       "                   Results: Ordinary least squares\n",
       "=====================================================================\n",
       "Model:              OLS                Adj. R-squared:     0.442     \n",
       "Dependent Variable: deaths_per_million AIC:                1548.5102 \n",
       "Date:               2025-06-11 22:20   BIC:                1553.5754 \n",
       "No. Observations:   93                 Log-Likelihood:     -772.26   \n",
       "Df Model:           1                  F-statistic:        73.81     \n",
       "Df Residuals:       91                 Prob (F-statistic): 2.26e-13  \n",
       "R-squared:          0.448              Scale:              9.7628e+05\n",
       "---------------------------------------------------------------------\n",
       "                Coef.    Std.Err.    t    P>|t|    [0.025     0.975] \n",
       "---------------------------------------------------------------------\n",
       "Intercept     -1476.9366 313.5244 -4.7108 0.0000 -2099.7143 -854.1589\n",
       "median_age       91.1775  10.6127  8.5914 0.0000    70.0968  112.2583\n",
       "---------------------------------------------------------------------\n",
       "Omnibus:               54.973        Durbin-Watson:           2.356  \n",
       "Prob(Omnibus):         0.000         Jarque-Bera (JB):        340.171\n",
       "Skew:                  1.716         Prob(JB):                0.000  \n",
       "Kurtosis:              11.718        Condition No.:           90     \n",
       "=====================================================================\n",
       "Notes:\n",
       "[1] Standard Errors assume that the covariance matrix of the errors\n",
       "is correctly specified.\n",
       "\"\"\""
      ]
     },
     "execution_count": 16,
     "metadata": {},
     "output_type": "execute_result"
    }
   ],
   "source": [
    "getfit(final, bestvars).summary2()"
   ]
  },
  {
   "cell_type": "code",
   "execution_count": 17,
   "id": "a1c74e5b-3ade-41f4-85b8-2c995bfdae18",
   "metadata": {},
   "outputs": [],
   "source": [
    "covid19['year'] = covid19.date.dt.year"
   ]
  },
  {
   "cell_type": "code",
   "execution_count": 18,
   "id": "84633ed4-babe-42dd-ba64-5003149ac391",
   "metadata": {},
   "outputs": [],
   "source": [
    "def getyear(year):\n",
    "    return covid19[covid19.year == year].groupby('country').last()"
   ]
  },
  {
   "cell_type": "code",
   "execution_count": 19,
   "id": "a85754b8-30b6-4dcd-a49b-58520bd3f6e4",
   "metadata": {},
   "outputs": [
    {
     "name": "stdout",
     "output_type": "stream",
     "text": [
      "In 2020, the best model is human_development_index with f=39.9, res=392.2\n",
      "In 2021, the best model is median_age with f=46.3, res=880.7\n",
      "In 2022, the best model is median_age with f=66.7, res=975.0\n",
      "In 2023, the best model is median_age with f=73.1, res=984.7\n"
     ]
    }
   ],
   "source": [
    "for year in range(2020, 2024):\n",
    "    final_by_year = getyear(year)\n",
    "    \n",
    "    fvalues = {expvars: getfit(final_by_year, expvars).fvalue\n",
    "               for nvars in range(1, len(explanatory) + 1)\n",
    "               for expvars in itertools.combinations(explanatory, nvars)}\n",
    "\n",
    "    bestvars = max(fvalues.keys(), key=fvalues.get)\n",
    "    bestfit = getfit(final_by_year, bestvars)\n",
    "    \n",
    "    print(f'In {year}, the best model is {'+'.join(bestvars)} with f={bestfit.fvalue:.1f}, res={np.sqrt(bestfit.mse_resid):.1f}')"
   ]
  },
  {
   "cell_type": "code",
   "execution_count": 20,
   "id": "20bba366-0a0e-4c68-8b67-7e967f7e9946",
   "metadata": {},
   "outputs": [
    {
     "data": {
      "text/html": [
       "<table class=\"simpletable\">\n",
       "<tr>\n",
       "        <td>Model:</td>                <td>OLS</td>          <td>Adj. R-squared:</td>      <td>0.297</td>  \n",
       "</tr>\n",
       "<tr>\n",
       "  <td>Dependent Variable:</td> <td>deaths_per_million</td>        <td>AIC:</td>          <td>1376.6525</td>\n",
       "</tr>\n",
       "<tr>\n",
       "         <td>Date:</td>         <td>2025-06-11 22:24</td>         <td>BIC:</td>          <td>1381.7177</td>\n",
       "</tr>\n",
       "<tr>\n",
       "   <td>No. Observations:</td>          <td>93</td>           <td>Log-Likelihood:</td>     <td>-686.33</td> \n",
       "</tr>\n",
       "<tr>\n",
       "       <td>Df Model:</td>               <td>1</td>            <td>F-statistic:</td>        <td>39.91</td>  \n",
       "</tr>\n",
       "<tr>\n",
       "     <td>Df Residuals:</td>            <td>91</td>         <td>Prob (F-statistic):</td>  <td>9.61e-09</td> \n",
       "</tr>\n",
       "<tr>\n",
       "      <td>R-squared:</td>             <td>0.305</td>             <td>Scale:</td>        <td>1.5382e+05</td>\n",
       "</tr>\n",
       "</table>\n",
       "<table class=\"simpletable\">\n",
       "<tr>\n",
       "             <td></td>               <th>Coef.</th>   <th>Std.Err.</th>    <th>t</th>     <th>P>|t|</th>   <th>[0.025</th>    <th>0.975]</th>  \n",
       "</tr>\n",
       "<tr>\n",
       "  <th>Intercept</th>               <td>-758.5526</td> <td>172.8678</td> <td>-4.3880</td> <td>0.0000</td> <td>-1101.9333</td> <td>-415.1719</td>\n",
       "</tr>\n",
       "<tr>\n",
       "  <th>human_development_index</th> <td>1537.2472</td> <td>243.3227</td> <td>6.3177</td>  <td>0.0000</td>  <td>1053.9165</td> <td>2020.5779</td>\n",
       "</tr>\n",
       "</table>\n",
       "<table class=\"simpletable\">\n",
       "<tr>\n",
       "     <td>Omnibus:</td>    <td>77.092</td>  <td>Durbin-Watson:</td>    <td>2.341</td> \n",
       "</tr>\n",
       "<tr>\n",
       "  <td>Prob(Omnibus):</td>  <td>0.000</td> <td>Jarque-Bera (JB):</td> <td>731.343</td>\n",
       "</tr>\n",
       "<tr>\n",
       "       <td>Skew:</td>      <td>2.490</td>     <td>Prob(JB):</td>      <td>0.000</td> \n",
       "</tr>\n",
       "<tr>\n",
       "     <td>Kurtosis:</td>   <td>15.804</td>  <td>Condition No.:</td>      <td>9</td>   \n",
       "</tr>\n",
       "</table><br/>\n",
       "Notes:<br/>\n",
       "[1] Standard Errors assume that the covariance matrix of the errors is correctly specified."
      ],
      "text/latex": [
       "\\begin{table}\n",
       "\\caption{Results: Ordinary least squares}\n",
       "\\label{}\n",
       "\\begin{center}\n",
       "\\begin{tabular}{llll}\n",
       "\\hline\n",
       "Model:              & OLS                  & Adj. R-squared:     & 0.297       \\\\\n",
       "Dependent Variable: & deaths\\_per\\_million & AIC:                & 1376.6525   \\\\\n",
       "Date:               & 2025-06-11 22:24     & BIC:                & 1381.7177   \\\\\n",
       "No. Observations:   & 93                   & Log-Likelihood:     & -686.33     \\\\\n",
       "Df Model:           & 1                    & F-statistic:        & 39.91       \\\\\n",
       "Df Residuals:       & 91                   & Prob (F-statistic): & 9.61e-09    \\\\\n",
       "R-squared:          & 0.305                & Scale:              & 1.5382e+05  \\\\\n",
       "\\hline\n",
       "\\end{tabular}\n",
       "\\end{center}\n",
       "\n",
       "\\begin{center}\n",
       "\\begin{tabular}{lrrrrrr}\n",
       "\\hline\n",
       "                          &     Coef. & Std.Err. &       t & P$> |$t$|$ &     [0.025 &    0.975]  \\\\\n",
       "\\hline\n",
       "Intercept                 & -758.5526 & 172.8678 & -4.3880 &      0.0000 & -1101.9333 & -415.1719  \\\\\n",
       "human\\_development\\_index & 1537.2472 & 243.3227 &  6.3177 &      0.0000 &  1053.9165 & 2020.5779  \\\\\n",
       "\\hline\n",
       "\\end{tabular}\n",
       "\\end{center}\n",
       "\n",
       "\\begin{center}\n",
       "\\begin{tabular}{llll}\n",
       "\\hline\n",
       "Omnibus:       & 77.092 & Durbin-Watson:    & 2.341    \\\\\n",
       "Prob(Omnibus): & 0.000  & Jarque-Bera (JB): & 731.343  \\\\\n",
       "Skew:          & 2.490  & Prob(JB):         & 0.000    \\\\\n",
       "Kurtosis:      & 15.804 & Condition No.:    & 9        \\\\\n",
       "\\hline\n",
       "\\end{tabular}\n",
       "\\end{center}\n",
       "\\end{table}\n",
       "\\bigskip\n",
       "Notes: \\newline \n",
       "[1] Standard Errors assume that the covariance matrix of the errors is correctly specified."
      ],
      "text/plain": [
       "<class 'statsmodels.iolib.summary2.Summary'>\n",
       "\"\"\"\n",
       "                       Results: Ordinary least squares\n",
       "==============================================================================\n",
       "Model:                 OLS                   Adj. R-squared:        0.297     \n",
       "Dependent Variable:    deaths_per_million    AIC:                   1376.6525 \n",
       "Date:                  2025-06-11 22:24      BIC:                   1381.7177 \n",
       "No. Observations:      93                    Log-Likelihood:        -686.33   \n",
       "Df Model:              1                     F-statistic:           39.91     \n",
       "Df Residuals:          91                    Prob (F-statistic):    9.61e-09  \n",
       "R-squared:             0.305                 Scale:                 1.5382e+05\n",
       "------------------------------------------------------------------------------\n",
       "                          Coef.   Std.Err.    t    P>|t|    [0.025     0.975] \n",
       "------------------------------------------------------------------------------\n",
       "Intercept               -758.5526 172.8678 -4.3880 0.0000 -1101.9333 -415.1719\n",
       "human_development_index 1537.2472 243.3227  6.3177 0.0000  1053.9165 2020.5779\n",
       "------------------------------------------------------------------------------\n",
       "Omnibus:                  77.092           Durbin-Watson:              2.341  \n",
       "Prob(Omnibus):            0.000            Jarque-Bera (JB):           731.343\n",
       "Skew:                     2.490            Prob(JB):                   0.000  \n",
       "Kurtosis:                 15.804           Condition No.:              9      \n",
       "==============================================================================\n",
       "Notes:\n",
       "[1] Standard Errors assume that the covariance matrix of the errors is\n",
       "correctly specified.\n",
       "\"\"\""
      ]
     },
     "execution_count": 20,
     "metadata": {},
     "output_type": "execute_result"
    }
   ],
   "source": [
    "getfit(getyear(2020), ['human_development_index']).summary2()"
   ]
  },
  {
   "cell_type": "code",
   "execution_count": 21,
   "id": "9a3b72e8-9f59-486b-8f99-0388c1af3cba",
   "metadata": {},
   "outputs": [
    {
     "data": {
      "text/html": [
       "<table class=\"simpletable\">\n",
       "<tr>\n",
       "        <td>Model:</td>                <td>OLS</td>          <td>Adj. R-squared:</td>     <td>-0.004</td>  \n",
       "</tr>\n",
       "<tr>\n",
       "  <td>Dependent Variable:</td> <td>excess_per_million</td>        <td>AIC:</td>          <td>741.0973</td> \n",
       "</tr>\n",
       "<tr>\n",
       "         <td>Date:</td>         <td>2025-06-11 22:25</td>         <td>BIC:</td>          <td>744.7546</td> \n",
       "</tr>\n",
       "<tr>\n",
       "   <td>No. Observations:</td>          <td>46</td>           <td>Log-Likelihood:</td>     <td>-368.55</td> \n",
       "</tr>\n",
       "<tr>\n",
       "       <td>Df Model:</td>               <td>1</td>            <td>F-statistic:</td>       <td>0.8060</td>  \n",
       "</tr>\n",
       "<tr>\n",
       "     <td>Df Residuals:</td>            <td>44</td>         <td>Prob (F-statistic):</td>    <td>0.374</td>  \n",
       "</tr>\n",
       "<tr>\n",
       "      <td>R-squared:</td>             <td>0.018</td>             <td>Scale:</td>        <td>5.5706e+05</td>\n",
       "</tr>\n",
       "</table>\n",
       "<table class=\"simpletable\">\n",
       "<tr>\n",
       "             <td></td>                <th>Coef.</th>   <th>Std.Err.</th>     <th>t</th>     <th>P>|t|</th>   <th>[0.025</th>    <th>0.975]</th>  \n",
       "</tr>\n",
       "<tr>\n",
       "  <th>Intercept</th>                <td>1839.4950</td> <td>1023.9519</td> <td>1.7965</td>  <td>0.0793</td>  <td>-224.1444</td> <td>3903.1345</td>\n",
       "</tr>\n",
       "<tr>\n",
       "  <th>human_development_index</th> <td>-1107.8743</td> <td>1233.9978</td> <td>-0.8978</td> <td>0.3742</td> <td>-3594.8335</td> <td>1379.0849</td>\n",
       "</tr>\n",
       "</table>\n",
       "<table class=\"simpletable\">\n",
       "<tr>\n",
       "     <td>Omnibus:</td>    <td>1.778</td>  <td>Durbin-Watson:</td>   <td>2.431</td>\n",
       "</tr>\n",
       "<tr>\n",
       "  <td>Prob(Omnibus):</td> <td>0.411</td> <td>Jarque-Bera (JB):</td> <td>1.588</td>\n",
       "</tr>\n",
       "<tr>\n",
       "       <td>Skew:</td>     <td>0.329</td>     <td>Prob(JB):</td>     <td>0.452</td>\n",
       "</tr>\n",
       "<tr>\n",
       "     <td>Kurtosis:</td>   <td>2.372</td>  <td>Condition No.:</td>    <td>19</td>  \n",
       "</tr>\n",
       "</table><br/>\n",
       "Notes:<br/>\n",
       "[1] Standard Errors assume that the covariance matrix of the errors is correctly specified."
      ],
      "text/latex": [
       "\\begin{table}\n",
       "\\caption{Results: Ordinary least squares}\n",
       "\\label{}\n",
       "\\begin{center}\n",
       "\\begin{tabular}{llll}\n",
       "\\hline\n",
       "Model:              & OLS                  & Adj. R-squared:     & -0.004      \\\\\n",
       "Dependent Variable: & excess\\_per\\_million & AIC:                & 741.0973    \\\\\n",
       "Date:               & 2025-06-11 22:25     & BIC:                & 744.7546    \\\\\n",
       "No. Observations:   & 46                   & Log-Likelihood:     & -368.55     \\\\\n",
       "Df Model:           & 1                    & F-statistic:        & 0.8060      \\\\\n",
       "Df Residuals:       & 44                   & Prob (F-statistic): & 0.374       \\\\\n",
       "R-squared:          & 0.018                & Scale:              & 5.5706e+05  \\\\\n",
       "\\hline\n",
       "\\end{tabular}\n",
       "\\end{center}\n",
       "\n",
       "\\begin{center}\n",
       "\\begin{tabular}{lrrrrrr}\n",
       "\\hline\n",
       "                          &      Coef. &  Std.Err. &       t & P$> |$t$|$ &     [0.025 &    0.975]  \\\\\n",
       "\\hline\n",
       "Intercept                 &  1839.4950 & 1023.9519 &  1.7965 &      0.0793 &  -224.1444 & 3903.1345  \\\\\n",
       "human\\_development\\_index & -1107.8743 & 1233.9978 & -0.8978 &      0.3742 & -3594.8335 & 1379.0849  \\\\\n",
       "\\hline\n",
       "\\end{tabular}\n",
       "\\end{center}\n",
       "\n",
       "\\begin{center}\n",
       "\\begin{tabular}{llll}\n",
       "\\hline\n",
       "Omnibus:       & 1.778 & Durbin-Watson:    & 2.431  \\\\\n",
       "Prob(Omnibus): & 0.411 & Jarque-Bera (JB): & 1.588  \\\\\n",
       "Skew:          & 0.329 & Prob(JB):         & 0.452  \\\\\n",
       "Kurtosis:      & 2.372 & Condition No.:    & 19     \\\\\n",
       "\\hline\n",
       "\\end{tabular}\n",
       "\\end{center}\n",
       "\\end{table}\n",
       "\\bigskip\n",
       "Notes: \\newline \n",
       "[1] Standard Errors assume that the covariance matrix of the errors is correctly specified."
      ],
      "text/plain": [
       "<class 'statsmodels.iolib.summary2.Summary'>\n",
       "\"\"\"\n",
       "                        Results: Ordinary least squares\n",
       "================================================================================\n",
       "Model:                   OLS                   Adj. R-squared:        -0.004    \n",
       "Dependent Variable:      excess_per_million    AIC:                   741.0973  \n",
       "Date:                    2025-06-11 22:25      BIC:                   744.7546  \n",
       "No. Observations:        46                    Log-Likelihood:        -368.55   \n",
       "Df Model:                1                     F-statistic:           0.8060    \n",
       "Df Residuals:            44                    Prob (F-statistic):    0.374     \n",
       "R-squared:               0.018                 Scale:                 5.5706e+05\n",
       "--------------------------------------------------------------------------------\n",
       "                          Coef.     Std.Err.    t    P>|t|    [0.025     0.975] \n",
       "--------------------------------------------------------------------------------\n",
       "Intercept                1839.4950 1023.9519  1.7965 0.0793  -224.1444 3903.1345\n",
       "human_development_index -1107.8743 1233.9978 -0.8978 0.3742 -3594.8335 1379.0849\n",
       "--------------------------------------------------------------------------------\n",
       "Omnibus:                   1.778             Durbin-Watson:                2.431\n",
       "Prob(Omnibus):             0.411             Jarque-Bera (JB):             1.588\n",
       "Skew:                      0.329             Prob(JB):                     0.452\n",
       "Kurtosis:                  2.372             Condition No.:                19   \n",
       "================================================================================\n",
       "Notes:\n",
       "[1] Standard Errors assume that the covariance matrix of the errors is correctly\n",
       "specified.\n",
       "\"\"\""
      ]
     },
     "execution_count": 21,
     "metadata": {},
     "output_type": "execute_result"
    }
   ],
   "source": [
    "fit = smf.ols('excess_per_million ~ human_development_index', data=getyear(2020).reset_index()).fit()\n",
    "fit.summary2()"
   ]
  },
  {
   "cell_type": "code",
   "execution_count": null,
   "id": "9de7c231",
   "metadata": {},
   "outputs": [],
   "source": []
  }
 ],
 "metadata": {
  "kernelspec": {
   "display_name": "Python 3",
   "language": "python",
   "name": "python3"
  },
  "language_info": {
   "codemirror_mode": {
    "name": "ipython",
    "version": 3
   },
   "file_extension": ".py",
   "mimetype": "text/x-python",
   "name": "python",
   "nbconvert_exporter": "python",
   "pygments_lexer": "ipython3",
   "version": "3.12.1"
  }
 },
 "nbformat": 4,
 "nbformat_minor": 5
}
